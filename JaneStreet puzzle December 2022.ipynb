{
 "cells": [
  {
   "cell_type": "markdown",
   "metadata": {},
   "source": [
    "Link: https://www.janestreet.com/puzzles/die-agony-index/\n",
    "\n",
    "Problem:A six-sided die, with numbers written on each of its faces, is placed on the 6-by-6 grid above, in the lower-left (yellow) corner. It then makes a sequence of “moves”. Each move consists of tipping the die into an orthogonally adjacent square within the grid.\n",
    "The die starts with a “score” of 0. On the Nth move, its score increases by N times the value of the die facing up after the move. However, the die is only allowed to move into a square if its score after the move matches the value in the square. Also, the die cannot be translated or rotated in place in addition to these moves. After some number of moves the die arrives in the upper-right (blue) corner."
   ]
  },
  {
   "cell_type": "code",
   "execution_count": 1,
   "metadata": {},
   "outputs": [
    {
     "name": "stdout",
     "output_type": "stream",
     "text": [
      "Solution is 1,935.\n",
      "Dice is [ 9 -9 -3  9  5  7].\n",
      "Path is [0, 5, 23, -4, 32, 77, 23, 2, 42, 123, 33, 132, 240, 123, 81, 186, 42, 195, 357, 452, 592, 403, 337, 452, 620, 395, 317, 452, 704, 443, 353, 508, 732]\n"
     ]
    }
   ],
   "source": [
    "import numpy as np\n",
    "import pandas as pd\n",
    "import time\n",
    "import seaborn as sns\n",
    "import matplotlib.pyplot as plt\n",
    "from matplotlib.colors import ListedColormap\n",
    "\n",
    "#need to find legal path that successfully travels from the yellow square to the blue square\n",
    "\n",
    "\n",
    "grid = np.array([\n",
    "    [57,33,132,268,492,732],\n",
    "    [81,123,240,443,353,508],\n",
    "    [186,42,195,704,452,228],\n",
    "    [-7,2,357,452,317,395],\n",
    "    [5,23,-4,592,445,620],\n",
    "    [0,77,32,403,337,452]])\n",
    "# couple of old functions I used in Travel Agent !\n",
    "\n",
    "def roll(die,i,j):\n",
    "    #['bot','frt','lft','rgt','bak','top']\n",
    "    u = [5,1,3,4,6,2]\n",
    "    d = [2,6,3,4,1,5]\n",
    "    l = [3,2,6,1,5,4] \n",
    "    r = [4,2,1,6,5,3]\n",
    "    if i==-1 and j==0:\n",
    "        return [die[i-1] for i in u]\n",
    "    elif i == 1 and j==0:\n",
    "        return [die[i-1] for i in d]\n",
    "    elif i == 0 and j==1:\n",
    "        return [die[i-1] for i in l]\n",
    "    elif i == 0 and j==-1:\n",
    "        return [die[i-1] for i in r]\n",
    "    \n",
    "def neighbours(i,j,N):\n",
    "    return [[i+x,j+y] for (x,y) in [(-1,0),(0,-1),(1,0),(0,1)] if i+x >= 0 and i+x < N and j+y >= 0 and j+y < N ]\n",
    "# go through all the possible paths. \n",
    "\n",
    "def solve_grid(board):\n",
    "    dice = [0,0,0,0,0,0]\n",
    "    N=6\n",
    "    soln =[]\n",
    "    brd = np.array(board)\n",
    "    used = np.ones_like(brd)\n",
    "    paths = [[dice,used,[0],5,0,0]] #dice,used,score,x,y,step\n",
    "    \n",
    "    while len(paths) > 0:\n",
    "        d,u,score,x,y,step = paths.pop()\n",
    "        if x == 0 and y == 5:          \n",
    "            soln = [brd,u,d,score]\n",
    "        else:\n",
    "            for a,b in neighbours(x,y,N):\n",
    "                new_d = roll(d,a-x,b-y)  \n",
    "                new_u = np.array(u)\n",
    "                if new_d[5] == 0: \n",
    "                    test = (brd[a,b]-score[-1])/(step+1)\n",
    "                    if test != 0:\n",
    "                        new_d[5]=test\n",
    "                        new_u[a,b]=0\n",
    "                        paths.append([new_d,new_u,score+[brd[a,b]],a,b,step+1])\n",
    "\n",
    "                elif new_d[5] == (brd[a,b]-score[-1])/(step+1):\n",
    "                    new_u[a,b]=0\n",
    "                    paths.append([new_d,new_u,score+[brd[a,b]],a,b,step+1])\n",
    "    return soln\n",
    "a,b,d,s = solve_grid(grid)\n",
    "print(\"Solution is {:,.0f}.\\nDice is {}.\\nPath is {}\".format(np.sum(a*b),np.array(d,dtype=int),s))"
   ]
  }
 ],
 "metadata": {
  "kernelspec": {
   "display_name": "Python 3",
   "language": "python",
   "name": "python3"
  },
  "language_info": {
   "codemirror_mode": {
    "name": "ipython",
    "version": 3
   },
   "file_extension": ".py",
   "mimetype": "text/x-python",
   "name": "python",
   "nbconvert_exporter": "python",
   "pygments_lexer": "ipython3",
   "version": "3.8.5"
  }
 },
 "nbformat": 4,
 "nbformat_minor": 4
}
