{
 "cells": [
  {
   "cell_type": "markdown",
   "metadata": {},
   "source": [
    "Link: https://www.janestreet.com/puzzles/game-night-index/\n",
    "\n",
    "Question: The three best first plays from our recurring Codenames game night are pictured above: one matched eleven words and the other two matched nine each! We looked at the boards over and over again and decided that when the clues encode the target words in such a binary fashion you can get impressive results.\n"
   ]
  },
  {
   "cell_type": "code",
   "execution_count": 5,
   "metadata": {},
   "outputs": [
    {
     "name": "stdout",
     "output_type": "stream",
     "text": [
      "9\n",
      "11\n",
      "9\n"
     ]
    }
   ],
   "source": [
    "import numpy as np\n",
    "import pandas as pd\n",
    "import matplotlib.pyplot as plt\n",
    "import string\n",
    "\n",
    "#Lets arrange correctly at first now\n",
    "#Clothing 9: SHOE SHORTS POLO DRESS BOOT TUXEDO CAP GLOVE SUIT\n",
    "#Animal 11: DUCK TURTLE REINDEER EAGLE OCTOPUS CUCKOO PENGUIN RABBIT SCORPION SHARK DOG \n",
    "#Food 9: CARROT PIZZA HAMBURGERPOTATO PIE SALAD SOUP CHEESE BISCUIT\n",
    "\n",
    "#Lets set into respective arrays and grids,convert each row into a binary number \n",
    "#(where a selected word is represented by 1 and an unselected word represented by 0)\n",
    "\n",
    "grid1 =np.array([[1, 0, 0, 1, 1],\n",
    "                 [0, 0, 0, 1, 1],\n",
    "                 [1, 0, 0, 1, 0],\n",
    "                 [0, 0, 0, 0, 1],\n",
    "                 [0, 0, 0, 1, 0]])\n",
    "\n",
    "grid2 =np.array([[0, 0, 0, 1, 0],\n",
    "                 [0, 1, 1, 0, 0],\n",
    "                 [0, 0, 1, 0, 1],\n",
    "                 [1, 0, 0, 1, 1],\n",
    "                 [1, 0, 1, 0, 1]])\n",
    "\n",
    "grid3 =np.array([[0, 1, 1, 0, 1],\n",
    "                 [0, 1, 1, 1, 1],\n",
    "                 [0, 0, 1, 0, 0],\n",
    "                 [0, 0, 1, 0, 0],\n",
    "                 [0, 0, 0, 0, 0]])\n",
    "\n",
    "print(np.sum(grid1))\n",
    "print(np.sum(grid2))\n",
    "print(np.sum(grid3))\n",
    "\n",
    "words1 =np.array([['POLO','ENGLAND','SKYSCRAPER','DRESS','TUXEDO'],\n",
    "                  ['AGENT','COMPOUND','DECK','SHOE','SHORTS'],\n",
    "                  ['BOOT','PLANE','SCHOOL','CAP','TEXAS'],\n",
    "                  ['BOMB','DASH','TELESCOPE','TIN','GLOVE'],\n",
    "                  ['KISS','GOVERNOR','SHERLOCK','SUIT','SUN']])\n",
    "\n",
    "words2 =np.array([['SPACE','MILL','CIRCLE','DUCK','POWDER'],\n",
    "                  ['FEVER','SCORPION','OCTOPUS','SILK','WAR'],\n",
    "                  ['HOTEL','FOAM','CUCKOO','SHEET','PENGUIN'], #['HOTEL','cloud','elephant','SHEET','PENGUIN'],\n",
    "                  ['RABBIT','MUD','GLASSES','SHARK','DOG'],\n",
    "                  ['TURTLE','CLOAK','REINDEER','ICE','EAGLE']])\n",
    "\n",
    "words3 =np.array([['BANK','SOUP','CHEESE','WELL','POTATO'],\n",
    "                  ['MAGAZINE','PIE','SALAD','CARROT','PIZZA'],\n",
    "                  ['ARMY','PADDLE','HAMBURGER','HIMALAYAS','COUNTRY'],\n",
    "                  ['CYCLE','BRIDE','BISCUIT','PACIFIC','LAB'],\n",
    "                  ['ASH','KID','QUEEN','NOVEL','JET']])\n",
    "\n",
    "words = np.block([[words1],[words2],[words3]])\n",
    "grid  = np.block([[grid1],[grid2],[grid3]])"
   ]
  },
  {
   "cell_type": "code",
   "execution_count": 6,
   "metadata": {
    "scrolled": true
   },
   "outputs": [
    {
     "data": {
      "text/plain": [
       "'SCRABBLESUMODD '"
      ]
     },
     "execution_count": 6,
     "metadata": {},
     "output_type": "execute_result"
    }
   ],
   "source": [
    "#we've narrowed our search\n",
    "def trans(words,grid):\n",
    "    binary = np.array([16,8,4,2,1])\n",
    "    letters =[\" \"]+[i for i in string.ascii_uppercase]\n",
    "    return \"\".join([letters[i] for i in list(grid@binary)])\n",
    "\n",
    "trans(words,grid)"
   ]
  },
  {
   "cell_type": "code",
   "execution_count": 7,
   "metadata": {},
   "outputs": [
    {
     "data": {
      "text/plain": [
       "'LONGERTHANFIVE '"
      ]
     },
     "execution_count": 7,
     "metadata": {},
     "output_type": "execute_result"
    }
   ],
   "source": [
    "#vectorsize function from numpy will allow us to take \n",
    "#a nested sequence of objects or numpy arrays as inputs and returns a single numpy array or a tuple of numpy arrays.\n",
    "@np.vectorize\n",
    "def score(word):\n",
    "    points = {\n",
    "    \"a\": 1, \"c\": 3, \"b\": 3, \"e\": 1, \"d\": 2, \"g\": 2, \n",
    "    \"f\": 4, \"i\": 1, \"h\": 4, \"k\": 5, \"j\": 8, \"m\": 3, \n",
    "    \"l\": 1, \"o\": 1, \"n\": 1, \"q\": 10, \"p\": 3, \"s\": 1, \n",
    "    \"r\": 1, \"u\": 1, \"t\": 1, \"w\": 4, \"v\": 4, \"y\": 4, \n",
    "    \"x\": 8, \"z\": 10,\" \":0}\n",
    "    return np.sum([points[w] for w in word.lower()])\n",
    "\n",
    "trans(words,score(words)%2 ==1)"
   ]
  },
  {
   "cell_type": "code",
   "execution_count": 8,
   "metadata": {},
   "outputs": [
    {
     "data": {
      "text/plain": [
       "'MIDDLELETTEROF '"
      ]
     },
     "execution_count": 8,
     "metadata": {},
     "output_type": "execute_result"
    }
   ],
   "source": [
    "length = np.vectorize(len)\n",
    "trans(words,length(words)>5)"
   ]
  },
  {
   "cell_type": "code",
   "execution_count": 9,
   "metadata": {},
   "outputs": [
    {
     "data": {
      "text/plain": [
       "'SIEVE'"
      ]
     },
     "execution_count": 9,
     "metadata": {},
     "output_type": "execute_result"
    }
   ],
   "source": [
    "@np.vectorize\n",
    "def middle(word):\n",
    "    return word[len(word)//2]\n",
    "\n",
    "\"\".join(middle(words[-1,:]))"
   ]
  },
  {
   "cell_type": "code",
   "execution_count": 12,
   "metadata": {},
   "outputs": [
    {
     "name": "stdout",
     "output_type": "stream",
     "text": [
      "Final Answer = SIEVE\n"
     ]
    }
   ],
   "source": [
    "print (\"Final Answer = SIEVE\")"
   ]
  }
 ],
 "metadata": {
  "kernelspec": {
   "display_name": "Python 3",
   "language": "python",
   "name": "python3"
  },
  "language_info": {
   "codemirror_mode": {
    "name": "ipython",
    "version": 3
   },
   "file_extension": ".py",
   "mimetype": "text/x-python",
   "name": "python",
   "nbconvert_exporter": "python",
   "pygments_lexer": "ipython3",
   "version": "3.8.5"
  }
 },
 "nbformat": 4,
 "nbformat_minor": 4
}
