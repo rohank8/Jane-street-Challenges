{
 "cells": [
  {
   "cell_type": "markdown",
   "metadata": {},
   "source": [
    "Puzzle: March 2023\n",
    "Link: https://www.janestreet.com/puzzles/robot-long-jump-index/\n",
    "\n",
    "Problem: Assume both robots are programmed to optimize their probability of winning and are aware of each other’s strategies. You are just sitting down to watch a match’s very first attempt (of the first round, which may or may not end up being discarded). What is the probability that this attempt scores 0? Give this probability as a decimal rounded to 9 digits past the decimal point."
   ]
  },
  {
   "cell_type": "code",
   "execution_count": 13,
   "metadata": {},
   "outputs": [
    {
     "data": {
      "text/latex": [
       "$\\displaystyle p{\\left(x,y \\right)} = \\frac{\\left(1 - x\\right) \\left(1 - y\\right) e^{x} e^{y} \\int\\limits_{\\max\\left(x, y\\right)}^{2} \\frac{\\left(- \\max\\left(x, u - 1\\right) + \\min\\left(1, u\\right)\\right) \\int\\limits_{y}^{u} \\frac{- \\max\\left(y, v - 1\\right) + \\min\\left(1, v\\right)}{1 - y}\\, dv}{1 - x}\\, du + \\left(1 - x\\right) \\left(- \\left(1 - y\\right) e^{y} + 1\\right) e^{x}}{- \\left(- \\left(1 - x\\right) e^{x} + 1\\right) \\left(- \\left(1 - y\\right) e^{y} + 1\\right) + 1}$"
      ],
      "text/plain": [
       "Eq(p(x, y), ((1 - x)*(1 - y)*exp(x)*exp(y)*Integral((-Max(x, u - 1) + Min(1, u))*Integral((-Max(y, v - 1) + Min(1, v))/(1 - y), (v, y, u))/(1 - x), (u, Max(x, y), 2)) + (1 - x)*(-(1 - y)*exp(y) + 1)*exp(x))/(-(-(1 - x)*exp(x) + 1)*(-(1 - y)*exp(y) + 1) + 1))"
      ]
     },
     "metadata": {},
     "output_type": "display_data"
    },
    {
     "data": {
      "text/latex": [
       "$\\displaystyle p{\\left(x,y \\right)} = \\begin{cases} \\frac{\\left(x - 1\\right) \\left(\\left(- x^{3} + x^{2} + 4 x + 2 y^{3} - y^{2} \\left(3 x - 3\\right) + 2 y \\left(x - 1\\right)^{2} - 6\\right) e^{y} + 12\\right) e^{x}}{12 \\left(x - 1\\right) e^{x} + 12 \\left(y - 1\\right) \\left(\\left(x - 1\\right) e^{x} + 1\\right) e^{y}} & \\text{for}\\: x \\geq y \\\\\\frac{\\left(12 x + \\left(y - 1\\right) \\left(- 2 x^{3} + 3 x^{2} \\left(y - 1\\right) - 2 x \\left(y \\left(y - 2\\right) - 5\\right) + \\left(y - 3\\right) \\left(y \\left(y + 2\\right) + 2\\right)\\right) e^{y} - 12\\right) e^{x}}{12 \\left(x - 1\\right) e^{x} + 12 \\left(y - 1\\right) \\left(\\left(x - 1\\right) e^{x} + 1\\right) e^{y}} & \\text{otherwise} \\end{cases}$"
      ],
      "text/plain": [
       "Eq(p(x, y), Piecewise(((x - 1)*((-x**3 + x**2 + 4*x + 2*y**3 - y**2*(3*x - 3) + 2*y*(x - 1)**2 - 6)*exp(y) + 12)*exp(x)/(12*(x - 1)*exp(x) + 12*(y - 1)*((x - 1)*exp(x) + 1)*exp(y)), x >= y), ((12*x + (y - 1)*(-2*x**3 + 3*x**2*(y - 1) - 2*x*(y*(y - 2) - 5) + (y - 3)*(y*(y + 2) + 2))*exp(y) - 12)*exp(x)/(12*(x - 1)*exp(x) + 12*(y - 1)*((x - 1)*exp(x) + 1)*exp(y)), True)))"
      ]
     },
     "metadata": {},
     "output_type": "display_data"
    },
    {
     "name": "stdout",
     "output_type": "stream",
     "text": [
      "Solution is 0.114845886\n"
     ]
    },
    {
     "data": {
      "image/png": "[encoded data removed]",
      "text/plain": [
       "<Figure size 432x288 with 1 Axes>"
      ]
     },
     "metadata": {
      "needs_background": "light"
     },
     "output_type": "display_data"
    }
   ],
   "source": [
    "import numpy as np\n",
    "import pandas as pd\n",
    "import math\n",
    "import seaborn as sns\n",
    "import sympy as sp\n",
    "from sympy import symbols, Function, Eq, exp, Min, Max\n",
    "import matplotlib.pyplot as plt\n",
    "from math import factorial\n",
    "import requests\n",
    "import itertools\n",
    "from z3 import *\n",
    "import random\n",
    "\n",
    "def custom_game(jump):\n",
    "    a = 0\n",
    "    while a < jump:\n",
    "        a += random.random()\n",
    "    if a > 1:\n",
    "        return 0\n",
    "    else:\n",
    "        a += 0.5\n",
    "        return a\n",
    "\n",
    "def custom_sim(jump, trials=10000):\n",
    "    total = 0\n",
    "    for i in range(trials):\n",
    "        total += custom_game(jump)\n",
    "    return total / trials\n",
    "\n",
    "x, y = symbols(\"x y\")\n",
    "f = Function(\"f\")\n",
    "\n",
    "Eq1 = Eq(f(x), exp(x) * (1 - x) * (1 + x / 2))\n",
    "Eq2 = sp.diff(Eq1.rhs).simplify()\n",
    "\n",
    "solution = [(i, i.evalf()) for i in sp.solve(Eq(Eq2, 0)) if i > 0]\n",
    "\n",
    "a = np.linspace(0.0001, 1, 100)\n",
    "v_sim = np.vectorize(custom_sim)\n",
    "v_func = np.vectorize(lambda x: exp(x) * (1 - x) * (1 + x / 2))\n",
    "\n",
    "plt.plot(a, v_func(a))\n",
    "plt.plot(a, v_sim(a))\n",
    "\n",
    "p = Function(\"p\")\n",
    "f = Function(\"f\")\n",
    "g = Function(\"g\")\n",
    "\n",
    "x, y, u, v = symbols(\"x y u v\", positive=True)\n",
    "\n",
    "Eq1 = Eq(f(u), (Min(1, u) - Max(x, u - 1)) / (1 - x))\n",
    "Eq2 = Eq(g(v), (Min(1, v) - Max(y, v - 1)) / (1 - y))\n",
    "Eq3 = Eq(p(x, y),\n",
    "         (exp(x) * (1 - x) * (1 - exp(y) * (1 - y)) +\n",
    "          sp.integrate(f(u) * g(v), (v, y, u), (u, Max(x, y), 2)) *\n",
    "          exp(x) * (1 - x) * exp(y) * (1 - y)) / (1 - (1 - exp(x) * (1 - x)) * (1 - exp(y) * (1 - y)))\n",
    "         )\n",
    "\n",
    "display(Eq3.subs(Eq1.lhs, Eq1.rhs).subs(Eq2.lhs, Eq2.rhs))\n",
    "\n",
    "Eq4 = Eq(p(x, y), sp.Piecewise(\n",
    "    (\n",
    "        (exp(x) * (x - 1) * (\n",
    "                    exp(y) * (-x ** 3 + x ** 2 - 3 * (x - 1) * y ** 2 + 2 * (x - 1) ** 2 * y + 4 * x + 2 * y ** 3 - 6) + 12)) /\n",
    "        ((12 * (exp(x) * (x - 1) + exp(y) * ((y - 1)) * (exp(x) * (x - 1) + 1)))),\n",
    "        x >= y),\n",
    "        (\n",
    "            (exp(x) * (\n",
    "                        (exp(y) * (y - 1) * (\n",
    "                                    -2 * x ** 3 + 3 * x ** 2 * (y - 1) - 2 * x * ((y - 2) * y - 5) + (\n",
    "                                        y - 3) * (y * (y + 2) + 2))) + 12 * (x - 1))) /\n",
    "            (12 * ((exp(x) * (x - 1) + 1) * exp(y) * (y - 1) + exp(x) * (x - 1))),\n",
    "            x < y)\n",
    "    ))\n",
    "display(Eq4)\n",
    "\n",
    "strategy = sp.nsolve([Eq4.rhs.diff(x), Eq4.rhs.diff(y)], [x, y], (0.5, 0.5))\n",
    "bust_probability = lambda x: 1 - ((1 - x) * math.exp(x))\n",
    "\n",
    "print(\"Solution is {:.9f}\".format(bust_probability(strategy[0])))\n"
   ]
  }
 ],
 "metadata": {
  "kernelspec": {
   "display_name": "Python 3",
   "language": "python",
   "name": "python3"
  },
  "language_info": {
   "codemirror_mode": {
    "name": "ipython",
    "version": 3
   },
   "file_extension": ".py",
   "mimetype": "text/x-python",
   "name": "python",
   "nbconvert_exporter": "python",
   "pygments_lexer": "ipython3",
   "version": "3.8.5"
  }
 },
 "nbformat": 4,
 "nbformat_minor": 4
}
