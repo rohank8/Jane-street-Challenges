{
 "cells": [
  {
   "cell_type": "markdown",
   "metadata": {},
   "source": [
    "##### Puzzle: March 2023\n",
    "Link: https://www.janestreet.com/puzzles/robot-long-jump-index/\n",
    "\n",
    "Problem: Assume both robots are programmed to optimize their probability of winning and are aware of each other’s strategies. You are just sitting down to watch a match’s very first attempt (of the first round, which may or may not end up being discarded). What is the probability that this attempt scores 0? Give this probability as a decimal rounded to 9 digits past the decimal point.\n"
   ]
  },
  {
   "cell_type": "code",
   "execution_count": 33,
   "metadata": {},
   "outputs": [],
   "source": [
    "#import packages may be neeeded\n",
    "import numpy as np\n",
    "import pandas as pd\n",
    "import math\n",
    "import seaborn as sns\n",
    "import sympy as sy\n",
    "from sympy import symbols, Function\n",
    "from sympy import symbols, Function, Eq, exp, solve, Min, Max\n",
    "import matplotlib.pyplot as plt\n",
    "from math import factorial\n",
    "import requests\n",
    "import itertools\n",
    "from z3 import *\n"
   ]
  },
  {
   "cell_type": "code",
   "execution_count": 34,
   "metadata": {},
   "outputs": [
    {
     "ename": "NameError",
     "evalue": "name 'random' is not defined",
     "output_type": "error",
     "traceback": [
      "\u001b[1;31m---------------------------------------------------------------------------\u001b[0m",
      "\u001b[1;31mNameError\u001b[0m                                 Traceback (most recent call last)",
      "\u001b[1;32m<ipython-input-34-bd8b3414c070>\u001b[0m in \u001b[0;36m<module>\u001b[1;34m\u001b[0m\n\u001b[0;32m     35\u001b[0m \u001b[1;33m\u001b[0m\u001b[0m\n\u001b[0;32m     36\u001b[0m \u001b[0mplt\u001b[0m\u001b[1;33m.\u001b[0m\u001b[0mplot\u001b[0m\u001b[1;33m(\u001b[0m\u001b[0ma\u001b[0m\u001b[1;33m,\u001b[0m\u001b[0mv_func\u001b[0m\u001b[1;33m(\u001b[0m\u001b[0ma\u001b[0m\u001b[1;33m)\u001b[0m\u001b[1;33m)\u001b[0m\u001b[1;33m\u001b[0m\u001b[1;33m\u001b[0m\u001b[0m\n\u001b[1;32m---> 37\u001b[1;33m \u001b[0mplt\u001b[0m\u001b[1;33m.\u001b[0m\u001b[0mplot\u001b[0m\u001b[1;33m(\u001b[0m\u001b[0ma\u001b[0m\u001b[1;33m,\u001b[0m\u001b[0mv_sim\u001b[0m\u001b[1;33m(\u001b[0m\u001b[0ma\u001b[0m\u001b[1;33m)\u001b[0m\u001b[1;33m)\u001b[0m\u001b[1;33m\u001b[0m\u001b[1;33m\u001b[0m\u001b[0m\n\u001b[0m\u001b[0;32m     38\u001b[0m \u001b[1;33m\u001b[0m\u001b[0m\n\u001b[0;32m     39\u001b[0m \u001b[1;33m\u001b[0m\u001b[0m\n",
      "\u001b[1;32m~\\anaconda3\\lib\\site-packages\\numpy\\lib\\function_base.py\u001b[0m in \u001b[0;36m__call__\u001b[1;34m(self, *args, **kwargs)\u001b[0m\n\u001b[0;32m   2106\u001b[0m             \u001b[0mvargs\u001b[0m\u001b[1;33m.\u001b[0m\u001b[0mextend\u001b[0m\u001b[1;33m(\u001b[0m\u001b[1;33m[\u001b[0m\u001b[0mkwargs\u001b[0m\u001b[1;33m[\u001b[0m\u001b[0m_n\u001b[0m\u001b[1;33m]\u001b[0m \u001b[1;32mfor\u001b[0m \u001b[0m_n\u001b[0m \u001b[1;32min\u001b[0m \u001b[0mnames\u001b[0m\u001b[1;33m]\u001b[0m\u001b[1;33m)\u001b[0m\u001b[1;33m\u001b[0m\u001b[1;33m\u001b[0m\u001b[0m\n\u001b[0;32m   2107\u001b[0m \u001b[1;33m\u001b[0m\u001b[0m\n\u001b[1;32m-> 2108\u001b[1;33m         \u001b[1;32mreturn\u001b[0m \u001b[0mself\u001b[0m\u001b[1;33m.\u001b[0m\u001b[0m_vectorize_call\u001b[0m\u001b[1;33m(\u001b[0m\u001b[0mfunc\u001b[0m\u001b[1;33m=\u001b[0m\u001b[0mfunc\u001b[0m\u001b[1;33m,\u001b[0m \u001b[0margs\u001b[0m\u001b[1;33m=\u001b[0m\u001b[0mvargs\u001b[0m\u001b[1;33m)\u001b[0m\u001b[1;33m\u001b[0m\u001b[1;33m\u001b[0m\u001b[0m\n\u001b[0m\u001b[0;32m   2109\u001b[0m \u001b[1;33m\u001b[0m\u001b[0m\n\u001b[0;32m   2110\u001b[0m     \u001b[1;32mdef\u001b[0m \u001b[0m_get_ufunc_and_otypes\u001b[0m\u001b[1;33m(\u001b[0m\u001b[0mself\u001b[0m\u001b[1;33m,\u001b[0m \u001b[0mfunc\u001b[0m\u001b[1;33m,\u001b[0m \u001b[0margs\u001b[0m\u001b[1;33m)\u001b[0m\u001b[1;33m:\u001b[0m\u001b[1;33m\u001b[0m\u001b[1;33m\u001b[0m\u001b[0m\n",
      "\u001b[1;32m~\\anaconda3\\lib\\site-packages\\numpy\\lib\\function_base.py\u001b[0m in \u001b[0;36m_vectorize_call\u001b[1;34m(self, func, args)\u001b[0m\n\u001b[0;32m   2184\u001b[0m             \u001b[0mres\u001b[0m \u001b[1;33m=\u001b[0m \u001b[0mfunc\u001b[0m\u001b[1;33m(\u001b[0m\u001b[1;33m)\u001b[0m\u001b[1;33m\u001b[0m\u001b[1;33m\u001b[0m\u001b[0m\n\u001b[0;32m   2185\u001b[0m         \u001b[1;32melse\u001b[0m\u001b[1;33m:\u001b[0m\u001b[1;33m\u001b[0m\u001b[1;33m\u001b[0m\u001b[0m\n\u001b[1;32m-> 2186\u001b[1;33m             \u001b[0mufunc\u001b[0m\u001b[1;33m,\u001b[0m \u001b[0motypes\u001b[0m \u001b[1;33m=\u001b[0m \u001b[0mself\u001b[0m\u001b[1;33m.\u001b[0m\u001b[0m_get_ufunc_and_otypes\u001b[0m\u001b[1;33m(\u001b[0m\u001b[0mfunc\u001b[0m\u001b[1;33m=\u001b[0m\u001b[0mfunc\u001b[0m\u001b[1;33m,\u001b[0m \u001b[0margs\u001b[0m\u001b[1;33m=\u001b[0m\u001b[0margs\u001b[0m\u001b[1;33m)\u001b[0m\u001b[1;33m\u001b[0m\u001b[1;33m\u001b[0m\u001b[0m\n\u001b[0m\u001b[0;32m   2187\u001b[0m \u001b[1;33m\u001b[0m\u001b[0m\n\u001b[0;32m   2188\u001b[0m             \u001b[1;31m# Convert args to object arrays first\u001b[0m\u001b[1;33m\u001b[0m\u001b[1;33m\u001b[0m\u001b[1;33m\u001b[0m\u001b[0m\n",
      "\u001b[1;32m~\\anaconda3\\lib\\site-packages\\numpy\\lib\\function_base.py\u001b[0m in \u001b[0;36m_get_ufunc_and_otypes\u001b[1;34m(self, func, args)\u001b[0m\n\u001b[0;32m   2144\u001b[0m \u001b[1;33m\u001b[0m\u001b[0m\n\u001b[0;32m   2145\u001b[0m             \u001b[0minputs\u001b[0m \u001b[1;33m=\u001b[0m \u001b[1;33m[\u001b[0m\u001b[0marg\u001b[0m\u001b[1;33m.\u001b[0m\u001b[0mflat\u001b[0m\u001b[1;33m[\u001b[0m\u001b[1;36m0\u001b[0m\u001b[1;33m]\u001b[0m \u001b[1;32mfor\u001b[0m \u001b[0marg\u001b[0m \u001b[1;32min\u001b[0m \u001b[0margs\u001b[0m\u001b[1;33m]\u001b[0m\u001b[1;33m\u001b[0m\u001b[1;33m\u001b[0m\u001b[0m\n\u001b[1;32m-> 2146\u001b[1;33m             \u001b[0moutputs\u001b[0m \u001b[1;33m=\u001b[0m \u001b[0mfunc\u001b[0m\u001b[1;33m(\u001b[0m\u001b[1;33m*\u001b[0m\u001b[0minputs\u001b[0m\u001b[1;33m)\u001b[0m\u001b[1;33m\u001b[0m\u001b[1;33m\u001b[0m\u001b[0m\n\u001b[0m\u001b[0;32m   2147\u001b[0m \u001b[1;33m\u001b[0m\u001b[0m\n\u001b[0;32m   2148\u001b[0m             \u001b[1;31m# Performance note: profiling indicates that -- for simple\u001b[0m\u001b[1;33m\u001b[0m\u001b[1;33m\u001b[0m\u001b[1;33m\u001b[0m\u001b[0m\n",
      "\u001b[1;32m<ipython-input-34-bd8b3414c070>\u001b[0m in \u001b[0;36msim\u001b[1;34m(jump, trials)\u001b[0m\n\u001b[0;32m     13\u001b[0m     \u001b[0mtotal\u001b[0m \u001b[1;33m=\u001b[0m\u001b[1;36m0\u001b[0m\u001b[1;33m\u001b[0m\u001b[1;33m\u001b[0m\u001b[0m\n\u001b[0;32m     14\u001b[0m     \u001b[1;32mfor\u001b[0m \u001b[0mi\u001b[0m \u001b[1;32min\u001b[0m \u001b[0mrange\u001b[0m\u001b[1;33m(\u001b[0m\u001b[0mtrials\u001b[0m\u001b[1;33m)\u001b[0m\u001b[1;33m:\u001b[0m\u001b[1;33m\u001b[0m\u001b[1;33m\u001b[0m\u001b[0m\n\u001b[1;32m---> 15\u001b[1;33m         \u001b[0mtotal\u001b[0m \u001b[1;33m+=\u001b[0m\u001b[0mgame\u001b[0m\u001b[1;33m(\u001b[0m\u001b[0mjump\u001b[0m\u001b[1;33m)\u001b[0m\u001b[1;33m\u001b[0m\u001b[1;33m\u001b[0m\u001b[0m\n\u001b[0m\u001b[0;32m     16\u001b[0m     \u001b[1;32mreturn\u001b[0m \u001b[0mtotal\u001b[0m\u001b[1;33m/\u001b[0m\u001b[0mtrials\u001b[0m\u001b[1;33m\u001b[0m\u001b[1;33m\u001b[0m\u001b[0m\n\u001b[0;32m     17\u001b[0m \u001b[1;33m\u001b[0m\u001b[0m\n",
      "\u001b[1;32m<ipython-input-34-bd8b3414c070>\u001b[0m in \u001b[0;36mgame\u001b[1;34m(jump)\u001b[0m\n\u001b[0;32m      3\u001b[0m     \u001b[0ma\u001b[0m\u001b[1;33m=\u001b[0m\u001b[1;36m0\u001b[0m\u001b[1;33m\u001b[0m\u001b[1;33m\u001b[0m\u001b[0m\n\u001b[0;32m      4\u001b[0m     \u001b[1;32mwhile\u001b[0m \u001b[0ma\u001b[0m\u001b[1;33m<\u001b[0m\u001b[0mjump\u001b[0m\u001b[1;33m:\u001b[0m\u001b[1;33m\u001b[0m\u001b[1;33m\u001b[0m\u001b[0m\n\u001b[1;32m----> 5\u001b[1;33m         \u001b[0ma\u001b[0m \u001b[1;33m+=\u001b[0m \u001b[0mrandom\u001b[0m\u001b[1;33m.\u001b[0m\u001b[0mrandom\u001b[0m\u001b[1;33m(\u001b[0m\u001b[1;33m)\u001b[0m\u001b[1;33m\u001b[0m\u001b[1;33m\u001b[0m\u001b[0m\n\u001b[0m\u001b[0;32m      6\u001b[0m     \u001b[1;32mif\u001b[0m \u001b[0ma\u001b[0m \u001b[1;33m>\u001b[0m\u001b[1;36m1\u001b[0m\u001b[1;33m:\u001b[0m\u001b[1;33m\u001b[0m\u001b[1;33m\u001b[0m\u001b[0m\n\u001b[0;32m      7\u001b[0m         \u001b[1;32mreturn\u001b[0m \u001b[1;36m0\u001b[0m\u001b[1;33m\u001b[0m\u001b[1;33m\u001b[0m\u001b[0m\n",
      "\u001b[1;31mNameError\u001b[0m: name 'random' is not defined"
     ]
    },
    {
     "data": {
      "image/png": "[encoded data removed]",
      "text/plain": [
       "<Figure size 432x288 with 1 Axes>"
      ]
     },
     "metadata": {
      "needs_background": "light"
     },
     "output_type": "display_data"
    }
   ],
   "source": [
    "# we need to first define the game before trying to solve the Nash equilibrium \n",
    "def game(jump):\n",
    "    a=0\n",
    "    while a<jump:\n",
    "        a += random.random()\n",
    "    if a >1:\n",
    "        return 0\n",
    "    else:\n",
    "        a +=0.5\n",
    "        return a\n",
    "    \n",
    "def sim(jump,trials=10000):\n",
    "    total =0\n",
    "    for i in range(trials):\n",
    "        total +=game(jump)\n",
    "    return total/trials\n",
    "\n",
    "#we wait one of the robot’s position was at least some 'x' then jump, where x should satisfy the equation \n",
    "#x = ((x^3-3x+2)(e^x))/3\n",
    "\n",
    "x,y =symbols(\"x y\")\n",
    "f = Function(\"f\")\n",
    "\n",
    "#chance of \n",
    "\n",
    "Eq1 = Eq(f(x),exp(x)*(1-x)*(1+x/2))\n",
    "Eq2 = sy.diff(Eq1.rhs).simplify()\n",
    "#display(Eq1)\n",
    "#display(Eq2)\n",
    "[(i,i.evalf()) for i in sy.solve(Eq(Eq2,0))if i>0]\n",
    "\n",
    "a = np.linspace(0.0001,1,100)\n",
    "v_sim = np.vectorize(sim)\n",
    "v_func = np.vectorize(lambda x:exp(x)*(1-x)*(1+x/2))\n",
    "\n",
    "plt.plot(a,v_func(a))\n",
    "plt.plot(a,v_sim(a))\n",
    "\n",
    "\n",
    "p = Function(\"p\")\n",
    "f = Function(\"f\")\n",
    "g = Function(\"g\")\n",
    "\n",
    "x,y,u,v =sy.symbols(\"x y u v\",positive=True)\n",
    "\n",
    "Eq1 = Eq(f(u),(Min(1,u)-Max(x,u-1))/(1-x))\n",
    "Eq2 = Eq(g(v),(Min(1,v)-Max(y,v-1))/(1-y))\n",
    "Eq3 = sy.Eq(p(x,y),\n",
    "            (exp(x)*(1 - x)* (1 - exp(y)*(1 - y)) +  \n",
    "             sy.integrate(f(u)*g(v), (v, y, u),(u, Max(x, y), 2)) *\n",
    "             exp(x)* (1 - x)*exp(y)* (1 - y)) / (1 - (1 - exp(x)* (1 - x))* (1 - exp(y)* (1 - y)))\n",
    "            )"
   ]
  },
  {
   "cell_type": "code",
   "execution_count": 27,
   "metadata": {},
   "outputs": [
    {
     "data": {
      "text/latex": [
       "$\\displaystyle 0.632808492604494$"
      ],
      "text/plain": [
       "0.632808492604494"
      ]
     },
     "execution_count": 27,
     "metadata": {},
     "output_type": "execute_result"
    }
   ],
   "source": [
    "sy.nsolve(Eq(-1/12*exp(x)*(x-1)*(-x**3+x**2+4*x+6),1/2),x,0.4)\n"
   ]
  },
  {
   "cell_type": "code",
   "execution_count": 35,
   "metadata": {},
   "outputs": [
    {
     "data": {
      "text/latex": [
       "$\\displaystyle p{\\left(x,y \\right)} = \\frac{\\left(1 - x\\right) \\left(1 - y\\right) e^{x} e^{y} \\int\\limits_{\\max\\left(x, y\\right)}^{2} \\frac{\\left(- \\max\\left(x, u - 1\\right) + \\min\\left(1, u\\right)\\right) \\int\\limits_{y}^{u} \\frac{- \\max\\left(y, v - 1\\right) + \\min\\left(1, v\\right)}{1 - y}\\, dv}{1 - x}\\, du + \\left(1 - x\\right) \\left(- \\left(1 - y\\right) e^{y} + 1\\right) e^{x}}{- \\left(- \\left(1 - x\\right) e^{x} + 1\\right) \\left(- \\left(1 - y\\right) e^{y} + 1\\right) + 1}$"
      ],
      "text/plain": [
       "Eq(p(x, y), ((1 - x)*(1 - y)*exp(x)*exp(y)*Integral((-Max(x, u - 1) + Min(1, u))*Integral((-Max(y, v - 1) + Min(1, v))/(1 - y), (v, y, u))/(1 - x), (u, Max(x, y), 2)) + (1 - x)*(-(1 - y)*exp(y) + 1)*exp(x))/(-(-(1 - x)*exp(x) + 1)*(-(1 - y)*exp(y) + 1) + 1))"
      ]
     },
     "metadata": {},
     "output_type": "display_data"
    },
    {
     "data": {
      "text/latex": [
       "$\\displaystyle p{\\left(x,y \\right)} = \\begin{cases} \\frac{\\left(x - 1\\right) \\left(\\left(- x^{3} + x^{2} + 4 x + 2 y^{3} - y^{2} \\left(3 x - 3\\right) + 2 y \\left(x - 1\\right)^{2} - 6\\right) e^{y} + 12\\right) e^{x}}{12 \\left(x - 1\\right) e^{x} + 12 \\left(y - 1\\right) \\left(\\left(x - 1\\right) e^{x} + 1\\right) e^{y}} & \\text{for}\\: x \\geq y \\\\\\frac{\\left(12 x + \\left(y - 1\\right) \\left(- 2 x^{3} + 3 x^{2} \\left(y - 1\\right) - 2 x \\left(y \\left(y - 2\\right) - 5\\right) + \\left(y - 3\\right) \\left(y \\left(y + 2\\right) + 2\\right)\\right) e^{y} - 12\\right) e^{x}}{12 \\left(x - 1\\right) e^{x} + 12 \\left(y - 1\\right) \\left(\\left(x - 1\\right) e^{x} + 1\\right) e^{y}} & \\text{otherwise} \\end{cases}$"
      ],
      "text/plain": [
       "Eq(p(x, y), Piecewise(((x - 1)*((-x**3 + x**2 + 4*x + 2*y**3 - y**2*(3*x - 3) + 2*y*(x - 1)**2 - 6)*exp(y) + 12)*exp(x)/(12*(x - 1)*exp(x) + 12*(y - 1)*((x - 1)*exp(x) + 1)*exp(y)), x >= y), ((12*x + (y - 1)*(-2*x**3 + 3*x**2*(y - 1) - 2*x*(y*(y - 2) - 5) + (y - 3)*(y*(y + 2) + 2))*exp(y) - 12)*exp(x)/(12*(x - 1)*exp(x) + 12*(y - 1)*((x - 1)*exp(x) + 1)*exp(y)), True)))"
      ]
     },
     "metadata": {},
     "output_type": "display_data"
    }
   ],
   "source": [
    "# model the game based on the strategies of each player. Threshold at which they jump is x,y\n",
    "p = Function(\"p\")\n",
    "f = Function(\"f\")\n",
    "g = Function(\"g\")\n",
    "\n",
    "x,y,u,v =sy.symbols(\"x y u v\",positive=True)\n",
    "\n",
    "Eq1 = Eq(f(u),(Min(1,u)-Max(x,u-1))/(1-x))\n",
    "Eq2 = Eq(g(v),(Min(1,v)-Max(y,v-1))/(1-y))\n",
    "\n",
    "Eq3 = sy.Eq(p(x,y),\n",
    "            (exp(x)*(1 - x)* (1 - exp(y)*(1 - y)) +  \n",
    "             sy.integrate(f(u)*g(v), (v, y, u),(u, Max(x, y), 2)) *\n",
    "             exp(x)* (1 - x)*exp(y)* (1 - y)) / (1 - (1 - exp(x)* (1 - x))* (1 - exp(y)* (1 - y)))\n",
    "            )\n",
    "\n",
    "display(Eq3.subs(Eq1.lhs,Eq1.rhs).subs(Eq2.lhs,Eq2.rhs))\n",
    "\n",
    "#using mathematica\n",
    "Eq4 = Eq(p(x,y),sy.Piecewise(\n",
    "                (\n",
    "                (exp(x)*(x - 1)*(exp(y)*(-x**3 + x**2 - 3*(x - 1)*y**2 + 2*(x - 1)**2*y + 4*x + 2*y**3 - 6) + 12))/\n",
    "                ((12*(exp(x)*(x - 1) + exp(y)*((y - 1))*(exp(x)*(x - 1) + 1)))),\n",
    "            x>=y),\n",
    "                (\n",
    "                (exp(x)*((exp(y)*(y - 1)*(-2*x**3 + 3*x**2*(y-1) - 2*x*((y-2)*y-5) + (y-3)*(y*(y+2)+2))) + 12*(x - 1)))/\n",
    "                (12*((exp(x)*(x-1)+1)*exp(y)*(y-1)+exp(x)*(x-1))),\n",
    "            x<y)\n",
    "                  ))\n",
    "           \n",
    "display(Eq4)\n",
    "\n",
    "\n",
    "\n"
   ]
  },
  {
   "cell_type": "code",
   "execution_count": 36,
   "metadata": {},
   "outputs": [
    {
     "name": "stderr",
     "output_type": "stream",
     "text": [
      "<>:8: SyntaxWarning: \"is\" with a literal. Did you mean \"==\"?\n",
      "<>:8: SyntaxWarning: \"is\" with a literal. Did you mean \"==\"?\n"
     ]
    },
    {
     "data": {
      "text/markdown": [
       "**Solution is 0.114845886**"
      ],
      "text/plain": [
       "<IPython.core.display.Markdown object>"
      ]
     },
     "metadata": {},
     "output_type": "display_data"
    },
    {
     "name": "stderr",
     "output_type": "stream",
     "text": [
      "<ipython-input-36-c6163ccc6ced>:8: SyntaxWarning: \"is\" with a literal. Did you mean \"==\"?\n",
      "  Solution is 0.114845886\n"
     ]
    },
    {
     "ename": "NameError",
     "evalue": "name 'Solution' is not defined",
     "output_type": "error",
     "traceback": [
      "\u001b[1;31m---------------------------------------------------------------------------\u001b[0m",
      "\u001b[1;31mNameError\u001b[0m                                 Traceback (most recent call last)",
      "\u001b[1;32m<ipython-input-36-c6163ccc6ced>\u001b[0m in \u001b[0;36m<module>\u001b[1;34m\u001b[0m\n\u001b[0;32m      6\u001b[0m \u001b[1;33m\u001b[0m\u001b[0m\n\u001b[0;32m      7\u001b[0m \u001b[0mdisplay\u001b[0m\u001b[1;33m(\u001b[0m\u001b[0mMarkdown\u001b[0m\u001b[1;33m(\u001b[0m\u001b[1;33m(\u001b[0m\u001b[1;34m\"**Solution is {:.9f}**\"\u001b[0m\u001b[1;33m.\u001b[0m\u001b[0mformat\u001b[0m\u001b[1;33m(\u001b[0m\u001b[0mbust\u001b[0m\u001b[1;33m(\u001b[0m\u001b[0mstrategy\u001b[0m\u001b[1;33m[\u001b[0m\u001b[1;36m0\u001b[0m\u001b[1;33m]\u001b[0m\u001b[1;33m)\u001b[0m\u001b[1;33m)\u001b[0m\u001b[1;33m)\u001b[0m\u001b[1;33m)\u001b[0m\u001b[1;33m)\u001b[0m\u001b[1;33m\u001b[0m\u001b[1;33m\u001b[0m\u001b[0m\n\u001b[1;32m----> 8\u001b[1;33m \u001b[0mSolution\u001b[0m \u001b[1;32mis\u001b[0m \u001b[1;36m0.114845886\u001b[0m\u001b[1;33m\u001b[0m\u001b[1;33m\u001b[0m\u001b[0m\n\u001b[0m",
      "\u001b[1;31mNameError\u001b[0m: name 'Solution' is not defined"
     ]
    }
   ],
   "source": [
    "# find the turning point to get the best strategy\n",
    "strategy = sy.nsolve([Eq4.rhs.diff(x), Eq4.rhs.diff(y)], [x, y],(0.5,0.5))\n",
    "strategy\n",
    "# turn that into the probability of going bust\n",
    "bust = lambda x: 1-((1-x)*math.exp(x))\n",
    "\n",
    "display(Markdown((\"**Solution is {:.9f}**\".format(bust(strategy[0])))))\n",
    "Solution is 0.114845886\n"
   ]
  }
 ],
 "metadata": {
  "kernelspec": {
   "display_name": "Python 3",
   "language": "python",
   "name": "python3"
  },
  "language_info": {
   "codemirror_mode": {
    "name": "ipython",
    "version": 3
   },
   "file_extension": ".py",
   "mimetype": "text/x-python",
   "name": "python",
   "nbconvert_exporter": "python",
   "pygments_lexer": "ipython3",
   "version": "3.8.5"
  }
 },
 "nbformat": 4,
 "nbformat_minor": 4
}
